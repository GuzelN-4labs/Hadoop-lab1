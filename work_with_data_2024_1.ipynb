{
 "cells": [
  {
   "cell_type": "code",
   "execution_count": 1,
   "id": "9ae06fcf-0596-4927-9ccf-c62e0c1fb38c",
   "metadata": {},
   "outputs": [
    {
     "name": "stdout",
     "output_type": "stream",
     "text": [
      "Requirement already satisfied: pyspark in /home/devops/.config/jupyterlab-desktop/jlab_server/lib/python3.12/site-packages (3.5.3)\n",
      "Requirement already satisfied: py4j==0.10.9.7 in /home/devops/.config/jupyterlab-desktop/jlab_server/lib/python3.12/site-packages (from pyspark) (0.10.9.7)\n"
     ]
    }
   ],
   "source": [
    "!pip install pyspark"
   ]
  },
  {
   "cell_type": "code",
   "execution_count": 2,
   "id": "71b1f246-eb5c-4d8a-8f68-038a891849be",
   "metadata": {},
   "outputs": [],
   "source": [
    "import pandas as pd\n",
    "import matplotlib.pyplot as plt"
   ]
  },
  {
   "cell_type": "code",
   "execution_count": 3,
   "id": "f160664f-b227-467c-88d4-d33e7c5a3c0f",
   "metadata": {},
   "outputs": [
    {
     "name": "stderr",
     "output_type": "stream",
     "text": [
      "25/04/01 02:12:38 WARN Utils: Your hostname, devopsvm resolves to a loopback address: 127.0.1.1; using 192.168.0.136 instead (on interface enp0s3)\n",
      "25/04/01 02:12:38 WARN Utils: Set SPARK_LOCAL_IP if you need to bind to another address\n",
      "Setting default log level to \"WARN\".\n",
      "To adjust logging level use sc.setLogLevel(newLevel). For SparkR, use setLogLevel(newLevel).\n",
      "25/04/01 02:12:41 WARN NativeCodeLoader: Unable to load native-hadoop library for your platform... using builtin-java classes where applicable\n"
     ]
    }
   ],
   "source": [
    "from pyspark.sql import SparkSession\n",
    "\n",
    "# Создание SparkSession\n",
    "spark = SparkSession.builder \\\n",
    "    .appName(\"Economic Data Analysis\") \\\n",
    "    .config(\"spark.hadoop.fs.defaultFS\", \"hdfs://localhost:9000\") \\\n",
    "    .config(\"spark.ui.port\", \"4050\") \\\n",
    "    .getOrCreate()\n",
    "\n",
    "# Установка количества разделов для shuffle операций\n",
    "spark.conf.set(\"spark.sql.shuffle.partitions\", \"50\")"
   ]
  },
  {
   "cell_type": "code",
   "execution_count": 4,
   "id": "825ce6e6-4e67-45e5-a130-defecd267148",
   "metadata": {},
   "outputs": [
    {
     "name": "stderr",
     "output_type": "stream",
     "text": [
      "                                                                                \r"
     ]
    },
    {
     "name": "stdout",
     "output_type": "stream",
     "text": [
      "+--------------------+\n",
      "|     <!DOCTYPE html>|\n",
      "+--------------------+\n",
      "|               <html|\n",
      "|           lang=\"en\"|\n",
      "|  data-color-mode...|\n",
      "|  data-a11y-anima...|\n",
      "|                   >|\n",
      "+--------------------+\n",
      "only showing top 5 rows\n",
      "\n"
     ]
    }
   ],
   "source": [
    "# Чтение данных из HDFS\n",
    "#file_path = \"http://localhost:9870/nurgaleeva01/hadoop/input/economic_data/TSLA.csv\"\n",
    "file_path = \"hdfs://localhost:9000/nurgaleeva01/hadoop/input/economic_data/apple_stock.csv\"\n",
    "df = spark.read.csv(file_path, header=True, inferSchema=True)\n",
    "\n",
    "# Просмотр первых строк данных\n",
    "df.show(5)"
   ]
  },
  {
   "cell_type": "code",
   "execution_count": 5,
   "id": "d5e7d6e6-16be-4f35-b2c6-85d6df11a408",
   "metadata": {},
   "outputs": [
    {
     "name": "stderr",
     "output_type": "stream",
     "text": [
      "                                                                                \r"
     ]
    },
    {
     "data": {
      "text/html": [
       "<div>\n",
       "<style scoped>\n",
       "    .dataframe tbody tr th:only-of-type {\n",
       "        vertical-align: middle;\n",
       "    }\n",
       "\n",
       "    .dataframe tbody tr th {\n",
       "        vertical-align: top;\n",
       "    }\n",
       "\n",
       "    .dataframe thead th {\n",
       "        text-align: right;\n",
       "    }\n",
       "</style>\n",
       "<table border=\"1\" class=\"dataframe\">\n",
       "  <thead>\n",
       "    <tr style=\"text-align: right;\">\n",
       "      <th></th>\n",
       "      <th>&lt;!DOCTYPE html&gt;</th>\n",
       "    </tr>\n",
       "  </thead>\n",
       "  <tbody>\n",
       "    <tr>\n",
       "      <th>0</th>\n",
       "      <td>&lt;html</td>\n",
       "    </tr>\n",
       "    <tr>\n",
       "      <th>1</th>\n",
       "      <td>lang=\"en\"</td>\n",
       "    </tr>\n",
       "    <tr>\n",
       "      <th>2</th>\n",
       "      <td>data-color-mode=\"auto\" data-light-theme=\"lig...</td>\n",
       "    </tr>\n",
       "    <tr>\n",
       "      <th>3</th>\n",
       "      <td>data-a11y-animated-images=\"system\" data-a11y...</td>\n",
       "    </tr>\n",
       "    <tr>\n",
       "      <th>4</th>\n",
       "      <td>&gt;</td>\n",
       "    </tr>\n",
       "  </tbody>\n",
       "</table>\n",
       "</div>"
      ],
      "text/plain": [
       "                                     <!DOCTYPE html>\n",
       "0                                              <html\n",
       "1                                          lang=\"en\"\n",
       "2    data-color-mode=\"auto\" data-light-theme=\"lig...\n",
       "3    data-a11y-animated-images=\"system\" data-a11y...\n",
       "4                                                  >"
      ]
     },
     "execution_count": 5,
     "metadata": {},
     "output_type": "execute_result"
    }
   ],
   "source": [
    "pandas_df = df.toPandas()\n",
    "pandas_df.head()"
   ]
  },
  {
   "cell_type": "code",
   "execution_count": 6,
   "id": "792809e9-a05a-4171-a82c-6b73a993c804",
   "metadata": {},
   "outputs": [
    {
     "data": {
      "text/html": [
       "<div>\n",
       "<style scoped>\n",
       "    .dataframe tbody tr th:only-of-type {\n",
       "        vertical-align: middle;\n",
       "    }\n",
       "\n",
       "    .dataframe tbody tr th {\n",
       "        vertical-align: top;\n",
       "    }\n",
       "\n",
       "    .dataframe thead th {\n",
       "        text-align: right;\n",
       "    }\n",
       "</style>\n",
       "<table border=\"1\" class=\"dataframe\">\n",
       "  <thead>\n",
       "    <tr style=\"text-align: right;\">\n",
       "      <th></th>\n",
       "      <th>Date</th>\n",
       "      <th>Adj Close</th>\n",
       "      <th>Close</th>\n",
       "      <th>High</th>\n",
       "      <th>Low</th>\n",
       "      <th>Open</th>\n",
       "      <th>Volume</th>\n",
       "    </tr>\n",
       "  </thead>\n",
       "  <tbody>\n",
       "    <tr>\n",
       "      <th>0</th>\n",
       "      <td>2023-11-02 00:00:00+00:00</td>\n",
       "      <td>176.665985</td>\n",
       "      <td>177.570007</td>\n",
       "      <td>177.779999</td>\n",
       "      <td>175.460007</td>\n",
       "      <td>175.520004</td>\n",
       "      <td>77334800</td>\n",
       "    </tr>\n",
       "    <tr>\n",
       "      <th>1</th>\n",
       "      <td>2023-11-03 00:00:00+00:00</td>\n",
       "      <td>175.750671</td>\n",
       "      <td>176.649994</td>\n",
       "      <td>176.820007</td>\n",
       "      <td>173.350006</td>\n",
       "      <td>174.240005</td>\n",
       "      <td>79763700</td>\n",
       "    </tr>\n",
       "    <tr>\n",
       "      <th>2</th>\n",
       "      <td>2023-11-06 00:00:00+00:00</td>\n",
       "      <td>178.317520</td>\n",
       "      <td>179.229996</td>\n",
       "      <td>179.429993</td>\n",
       "      <td>176.210007</td>\n",
       "      <td>176.380005</td>\n",
       "      <td>63841300</td>\n",
       "    </tr>\n",
       "    <tr>\n",
       "      <th>3</th>\n",
       "      <td>2023-11-07 00:00:00+00:00</td>\n",
       "      <td>180.894333</td>\n",
       "      <td>181.820007</td>\n",
       "      <td>182.440002</td>\n",
       "      <td>178.970001</td>\n",
       "      <td>179.179993</td>\n",
       "      <td>70530000</td>\n",
       "    </tr>\n",
       "    <tr>\n",
       "      <th>4</th>\n",
       "      <td>2023-11-08 00:00:00+00:00</td>\n",
       "      <td>181.958893</td>\n",
       "      <td>182.889999</td>\n",
       "      <td>183.449997</td>\n",
       "      <td>181.589996</td>\n",
       "      <td>182.350006</td>\n",
       "      <td>49340300</td>\n",
       "    </tr>\n",
       "  </tbody>\n",
       "</table>\n",
       "</div>"
      ],
      "text/plain": [
       "                        Date   Adj Close       Close        High         Low  \\\n",
       "0  2023-11-02 00:00:00+00:00  176.665985  177.570007  177.779999  175.460007   \n",
       "1  2023-11-03 00:00:00+00:00  175.750671  176.649994  176.820007  173.350006   \n",
       "2  2023-11-06 00:00:00+00:00  178.317520  179.229996  179.429993  176.210007   \n",
       "3  2023-11-07 00:00:00+00:00  180.894333  181.820007  182.440002  178.970001   \n",
       "4  2023-11-08 00:00:00+00:00  181.958893  182.889999  183.449997  181.589996   \n",
       "\n",
       "         Open    Volume  \n",
       "0  175.520004  77334800  \n",
       "1  174.240005  79763700  \n",
       "2  176.380005  63841300  \n",
       "3  179.179993  70530000  \n",
       "4  182.350006  49340300  "
      ]
     },
     "execution_count": 6,
     "metadata": {},
     "output_type": "execute_result"
    }
   ],
   "source": [
    "df = pd.read_csv('/home/devops/apple_stock.csv')\n",
    "df.head()"
   ]
  },
  {
   "cell_type": "code",
   "execution_count": 7,
   "id": "976f0419-448b-4f16-b2e3-af0193c477f5",
   "metadata": {},
   "outputs": [
    {
     "data": {
      "text/html": [
       "<div>\n",
       "<style scoped>\n",
       "    .dataframe tbody tr th:only-of-type {\n",
       "        vertical-align: middle;\n",
       "    }\n",
       "\n",
       "    .dataframe tbody tr th {\n",
       "        vertical-align: top;\n",
       "    }\n",
       "\n",
       "    .dataframe thead th {\n",
       "        text-align: right;\n",
       "    }\n",
       "</style>\n",
       "<table border=\"1\" class=\"dataframe\">\n",
       "  <thead>\n",
       "    <tr style=\"text-align: right;\">\n",
       "      <th></th>\n",
       "      <th>Adj Close</th>\n",
       "      <th>Close</th>\n",
       "      <th>High</th>\n",
       "      <th>Low</th>\n",
       "      <th>Open</th>\n",
       "      <th>Volume</th>\n",
       "    </tr>\n",
       "  </thead>\n",
       "  <tbody>\n",
       "    <tr>\n",
       "      <th>count</th>\n",
       "      <td>252.000000</td>\n",
       "      <td>252.000000</td>\n",
       "      <td>252.000000</td>\n",
       "      <td>252.000000</td>\n",
       "      <td>252.000000</td>\n",
       "      <td>2.520000e+02</td>\n",
       "    </tr>\n",
       "    <tr>\n",
       "      <th>mean</th>\n",
       "      <td>199.088202</td>\n",
       "      <td>199.454286</td>\n",
       "      <td>201.093056</td>\n",
       "      <td>197.608373</td>\n",
       "      <td>199.316032</td>\n",
       "      <td>5.832214e+07</td>\n",
       "    </tr>\n",
       "    <tr>\n",
       "      <th>std</th>\n",
       "      <td>21.511933</td>\n",
       "      <td>21.321567</td>\n",
       "      <td>21.571427</td>\n",
       "      <td>20.963034</td>\n",
       "      <td>21.365476</td>\n",
       "      <td>3.025771e+07</td>\n",
       "    </tr>\n",
       "    <tr>\n",
       "      <th>min</th>\n",
       "      <td>164.585999</td>\n",
       "      <td>165.000000</td>\n",
       "      <td>166.399994</td>\n",
       "      <td>164.080002</td>\n",
       "      <td>165.350006</td>\n",
       "      <td>2.404830e+07</td>\n",
       "    </tr>\n",
       "    <tr>\n",
       "      <th>25%</th>\n",
       "      <td>182.254063</td>\n",
       "      <td>182.852501</td>\n",
       "      <td>184.617504</td>\n",
       "      <td>181.487499</td>\n",
       "      <td>182.777504</td>\n",
       "      <td>4.278855e+07</td>\n",
       "    </tr>\n",
       "    <tr>\n",
       "      <th>50%</th>\n",
       "      <td>192.370026</td>\n",
       "      <td>193.084999</td>\n",
       "      <td>194.399994</td>\n",
       "      <td>191.724998</td>\n",
       "      <td>192.989998</td>\n",
       "      <td>5.174865e+07</td>\n",
       "    </tr>\n",
       "    <tr>\n",
       "      <th>75%</th>\n",
       "      <td>221.697502</td>\n",
       "      <td>221.697502</td>\n",
       "      <td>224.149994</td>\n",
       "      <td>219.717499</td>\n",
       "      <td>221.635002</td>\n",
       "      <td>6.497460e+07</td>\n",
       "    </tr>\n",
       "    <tr>\n",
       "      <th>max</th>\n",
       "      <td>236.479996</td>\n",
       "      <td>236.479996</td>\n",
       "      <td>237.490005</td>\n",
       "      <td>234.449997</td>\n",
       "      <td>236.479996</td>\n",
       "      <td>3.186799e+08</td>\n",
       "    </tr>\n",
       "  </tbody>\n",
       "</table>\n",
       "</div>"
      ],
      "text/plain": [
       "        Adj Close       Close        High         Low        Open  \\\n",
       "count  252.000000  252.000000  252.000000  252.000000  252.000000   \n",
       "mean   199.088202  199.454286  201.093056  197.608373  199.316032   \n",
       "std     21.511933   21.321567   21.571427   20.963034   21.365476   \n",
       "min    164.585999  165.000000  166.399994  164.080002  165.350006   \n",
       "25%    182.254063  182.852501  184.617504  181.487499  182.777504   \n",
       "50%    192.370026  193.084999  194.399994  191.724998  192.989998   \n",
       "75%    221.697502  221.697502  224.149994  219.717499  221.635002   \n",
       "max    236.479996  236.479996  237.490005  234.449997  236.479996   \n",
       "\n",
       "             Volume  \n",
       "count  2.520000e+02  \n",
       "mean   5.832214e+07  \n",
       "std    3.025771e+07  \n",
       "min    2.404830e+07  \n",
       "25%    4.278855e+07  \n",
       "50%    5.174865e+07  \n",
       "75%    6.497460e+07  \n",
       "max    3.186799e+08  "
      ]
     },
     "execution_count": 7,
     "metadata": {},
     "output_type": "execute_result"
    }
   ],
   "source": [
    "df.describe()"
   ]
  },
  {
   "cell_type": "code",
   "execution_count": 8,
   "id": "379023a0-79b0-404c-9ad1-8a7d309b3b71",
   "metadata": {},
   "outputs": [
    {
     "name": "stdout",
     "output_type": "stream",
     "text": [
      "<class 'pandas.core.frame.DataFrame'>\n",
      "RangeIndex: 252 entries, 0 to 251\n",
      "Data columns (total 7 columns):\n",
      " #   Column     Non-Null Count  Dtype  \n",
      "---  ------     --------------  -----  \n",
      " 0   Date       252 non-null    object \n",
      " 1   Adj Close  252 non-null    float64\n",
      " 2   Close      252 non-null    float64\n",
      " 3   High       252 non-null    float64\n",
      " 4   Low        252 non-null    float64\n",
      " 5   Open       252 non-null    float64\n",
      " 6   Volume     252 non-null    int64  \n",
      "dtypes: float64(5), int64(1), object(1)\n",
      "memory usage: 13.9+ KB\n"
     ]
    }
   ],
   "source": [
    "df.info()"
   ]
  },
  {
   "cell_type": "code",
   "execution_count": 9,
   "id": "4abd24b4-d00f-47a4-a420-3ebce1c3f367",
   "metadata": {},
   "outputs": [],
   "source": [
    "df['Date'] = pd.to_datetime(df['Date'], format = 'mixed')"
   ]
  },
  {
   "cell_type": "code",
   "execution_count": 10,
   "id": "6d654c5e-2798-4d9e-a355-d94666227740",
   "metadata": {},
   "outputs": [
    {
     "data": {
      "text/html": [
       "<div>\n",
       "<style scoped>\n",
       "    .dataframe tbody tr th:only-of-type {\n",
       "        vertical-align: middle;\n",
       "    }\n",
       "\n",
       "    .dataframe tbody tr th {\n",
       "        vertical-align: top;\n",
       "    }\n",
       "\n",
       "    .dataframe thead th {\n",
       "        text-align: right;\n",
       "    }\n",
       "</style>\n",
       "<table border=\"1\" class=\"dataframe\">\n",
       "  <thead>\n",
       "    <tr style=\"text-align: right;\">\n",
       "      <th></th>\n",
       "      <th>Date</th>\n",
       "      <th>Adj Close</th>\n",
       "      <th>Close</th>\n",
       "      <th>High</th>\n",
       "      <th>Low</th>\n",
       "      <th>Open</th>\n",
       "      <th>Volume</th>\n",
       "    </tr>\n",
       "  </thead>\n",
       "  <tbody>\n",
       "    <tr>\n",
       "      <th>0</th>\n",
       "      <td>2023-11-02 00:00:00+00:00</td>\n",
       "      <td>176.665985</td>\n",
       "      <td>177.570007</td>\n",
       "      <td>177.779999</td>\n",
       "      <td>175.460007</td>\n",
       "      <td>175.520004</td>\n",
       "      <td>77334800</td>\n",
       "    </tr>\n",
       "    <tr>\n",
       "      <th>1</th>\n",
       "      <td>2023-11-03 00:00:00+00:00</td>\n",
       "      <td>175.750671</td>\n",
       "      <td>176.649994</td>\n",
       "      <td>176.820007</td>\n",
       "      <td>173.350006</td>\n",
       "      <td>174.240005</td>\n",
       "      <td>79763700</td>\n",
       "    </tr>\n",
       "    <tr>\n",
       "      <th>2</th>\n",
       "      <td>2023-11-06 00:00:00+00:00</td>\n",
       "      <td>178.317520</td>\n",
       "      <td>179.229996</td>\n",
       "      <td>179.429993</td>\n",
       "      <td>176.210007</td>\n",
       "      <td>176.380005</td>\n",
       "      <td>63841300</td>\n",
       "    </tr>\n",
       "    <tr>\n",
       "      <th>3</th>\n",
       "      <td>2023-11-07 00:00:00+00:00</td>\n",
       "      <td>180.894333</td>\n",
       "      <td>181.820007</td>\n",
       "      <td>182.440002</td>\n",
       "      <td>178.970001</td>\n",
       "      <td>179.179993</td>\n",
       "      <td>70530000</td>\n",
       "    </tr>\n",
       "    <tr>\n",
       "      <th>4</th>\n",
       "      <td>2023-11-08 00:00:00+00:00</td>\n",
       "      <td>181.958893</td>\n",
       "      <td>182.889999</td>\n",
       "      <td>183.449997</td>\n",
       "      <td>181.589996</td>\n",
       "      <td>182.350006</td>\n",
       "      <td>49340300</td>\n",
       "    </tr>\n",
       "  </tbody>\n",
       "</table>\n",
       "</div>"
      ],
      "text/plain": [
       "                       Date   Adj Close       Close        High         Low  \\\n",
       "0 2023-11-02 00:00:00+00:00  176.665985  177.570007  177.779999  175.460007   \n",
       "1 2023-11-03 00:00:00+00:00  175.750671  176.649994  176.820007  173.350006   \n",
       "2 2023-11-06 00:00:00+00:00  178.317520  179.229996  179.429993  176.210007   \n",
       "3 2023-11-07 00:00:00+00:00  180.894333  181.820007  182.440002  178.970001   \n",
       "4 2023-11-08 00:00:00+00:00  181.958893  182.889999  183.449997  181.589996   \n",
       "\n",
       "         Open    Volume  \n",
       "0  175.520004  77334800  \n",
       "1  174.240005  79763700  \n",
       "2  176.380005  63841300  \n",
       "3  179.179993  70530000  \n",
       "4  182.350006  49340300  "
      ]
     },
     "execution_count": 10,
     "metadata": {},
     "output_type": "execute_result"
    }
   ],
   "source": [
    "df.head()"
   ]
  },
  {
   "cell_type": "code",
   "execution_count": 11,
   "id": "89278f70-e3c4-4814-a2ec-00f5dcf1029d",
   "metadata": {},
   "outputs": [
    {
     "name": "stdout",
     "output_type": "stream",
     "text": [
      "<class 'pandas.core.frame.DataFrame'>\n",
      "RangeIndex: 252 entries, 0 to 251\n",
      "Data columns (total 7 columns):\n",
      " #   Column     Non-Null Count  Dtype              \n",
      "---  ------     --------------  -----              \n",
      " 0   Date       252 non-null    datetime64[ns, UTC]\n",
      " 1   Adj Close  252 non-null    float64            \n",
      " 2   Close      252 non-null    float64            \n",
      " 3   High       252 non-null    float64            \n",
      " 4   Low        252 non-null    float64            \n",
      " 5   Open       252 non-null    float64            \n",
      " 6   Volume     252 non-null    int64              \n",
      "dtypes: datetime64[ns, UTC](1), float64(5), int64(1)\n",
      "memory usage: 13.9 KB\n"
     ]
    }
   ],
   "source": [
    "df.info()"
   ]
  },
  {
   "cell_type": "code",
   "execution_count": 12,
   "id": "318fea16-a9b2-4473-a6f7-b538c9be487f",
   "metadata": {},
   "outputs": [
    {
     "data": {
      "text/plain": [
       "Date         0\n",
       "Adj Close    0\n",
       "Close        0\n",
       "High         0\n",
       "Low          0\n",
       "Open         0\n",
       "Volume       0\n",
       "dtype: int64"
      ]
     },
     "execution_count": 12,
     "metadata": {},
     "output_type": "execute_result"
    }
   ],
   "source": [
    "df.isna().sum()"
   ]
  },
  {
   "cell_type": "code",
   "execution_count": 13,
   "id": "eb4ebb27-13fa-4c3f-9eb7-aeee1f2422d1",
   "metadata": {},
   "outputs": [
    {
     "name": "stderr",
     "output_type": "stream",
     "text": [
      "/tmp/ipykernel_17995/1112743747.py:1: UserWarning: Converting to PeriodArray/Index representation will drop timezone information.\n",
      "  df['quaters'] = df['Date'].dt.to_period('Q')\n"
     ]
    }
   ],
   "source": [
    "df['quaters'] = df['Date'].dt.to_period('Q')"
   ]
  },
  {
   "cell_type": "code",
   "execution_count": 14,
   "id": "769119db-6193-4a8b-8c53-7e1969904123",
   "metadata": {},
   "outputs": [
    {
     "data": {
      "text/plain": [
       "quaters\n",
       "2023Q4     5.409355\n",
       "2024Q1     7.413214\n",
       "2024Q2    16.012579\n",
       "2024Q3     5.758589\n",
       "2024Q4     3.994362\n",
       "Freq: Q-DEC, Name: Close, dtype: float64"
      ]
     },
     "execution_count": 14,
     "metadata": {},
     "output_type": "execute_result"
    }
   ],
   "source": [
    "df.groupby('quaters')['Close'].std()"
   ]
  },
  {
   "cell_type": "code",
   "execution_count": 15,
   "id": "7f55bfb2-3584-4ec9-a58e-00506da82180",
   "metadata": {},
   "outputs": [
    {
     "data": {
      "text/plain": [
       "quaters\n",
       "2024Q1     7.413214\n",
       "2024Q2    16.012579\n",
       "2024Q3     5.758589\n",
       "2024Q4     3.994362\n",
       "Freq: Q-DEC, Name: Close, dtype: float64"
      ]
     },
     "execution_count": 15,
     "metadata": {},
     "output_type": "execute_result"
    }
   ],
   "source": [
    "# filted by year = 2024\n",
    "df[df['Date']>='2024-01-01'].groupby('quaters')['Close'].std()"
   ]
  },
  {
   "cell_type": "code",
   "execution_count": 16,
   "id": "90b5582f-5244-4603-9b6a-f02d213c21bb",
   "metadata": {},
   "outputs": [
    {
     "data": {
      "image/png": "[encoded data removed]",
      "text/plain": [
       "<Figure size 1000x700 with 1 Axes>"
      ]
     },
     "metadata": {},
     "output_type": "display_data"
    }
   ],
   "source": [
    "plt.figure(figsize=(10,7))\n",
    "plt.plot(df['Date'], df['Close'], color = \"red\", label = \"Close\")\n",
    "plt.plot(df['Date'], df['Open'], label = \"Ope\")\n",
    "plt.title('Apple stock data')\n",
    "plt.xlabel('Date')\n",
    "plt.ylabel('Price')\n",
    "plt.legend()\n",
    "plt.show()"
   ]
  },
  {
   "cell_type": "code",
   "execution_count": 17,
   "id": "bb25a16d-bf7c-443b-b945-be00cdefa0dd",
   "metadata": {},
   "outputs": [],
   "source": [
    "apple_stock_2024 = df[df['Date']>='2024-01-01']"
   ]
  },
  {
   "cell_type": "code",
   "execution_count": 18,
   "id": "d37b24e5-a405-4da3-99be-3f14171bb982",
   "metadata": {},
   "outputs": [],
   "source": [
    "# Преобразование Pandas DataFrame обратно в PySpark DataFrame\n",
    "apple_stock_2024_spark = spark.createDataFrame(apple_stock_2024)\n"
   ]
  },
  {
   "cell_type": "code",
   "execution_count": 23,
   "id": "fdd32b2b-a095-427c-b2a6-f653b012532c",
   "metadata": {},
   "outputs": [
    {
     "ename": "AnalysisException",
     "evalue": "Datasource does not support writing empty or nested empty schemas. Please make sure the data schema has at least one or more column(s).",
     "output_type": "error",
     "traceback": [
      "\u001b[0;31m---------------------------------------------------------------------------\u001b[0m",
      "\u001b[0;31mAnalysisException\u001b[0m                         Traceback (most recent call last)",
      "Cell \u001b[0;32mIn[23], line 5\u001b[0m\n\u001b[1;32m      2\u001b[0m file_path_hdfs \u001b[38;5;241m=\u001b[39m \u001b[38;5;124m\"\u001b[39m\u001b[38;5;124mhdfs://localhost:9000/nurgaleeva01/hadoop/input/economic_data/apple_stock_2024.csv\u001b[39m\u001b[38;5;124m\"\u001b[39m\n\u001b[1;32m      4\u001b[0m \u001b[38;5;66;03m# Сохранение DataFrame в формате CSV в HDFS\u001b[39;00m\n\u001b[0;32m----> 5\u001b[0m \u001b[43mapple_stock_2024_spark\u001b[49m\u001b[38;5;241;43m.\u001b[39;49m\u001b[43mwrite\u001b[49m\u001b[38;5;241;43m.\u001b[39;49m\u001b[43mcsv\u001b[49m\u001b[43m(\u001b[49m\u001b[43mfile_path_hdfs\u001b[49m\u001b[43m,\u001b[49m\u001b[43m \u001b[49m\u001b[43mheader\u001b[49m\u001b[38;5;241;43m=\u001b[39;49m\u001b[38;5;28;43;01mTrue\u001b[39;49;00m\u001b[43m,\u001b[49m\u001b[43m \u001b[49m\u001b[43mmode\u001b[49m\u001b[38;5;241;43m=\u001b[39;49m\u001b[38;5;124;43m'\u001b[39;49m\u001b[38;5;124;43moverwrite\u001b[39;49m\u001b[38;5;124;43m'\u001b[39;49m\u001b[43m)\u001b[49m\n",
      "File \u001b[0;32m~/.config/jupyterlab-desktop/jlab_server/lib/python3.12/site-packages/pyspark/sql/readwriter.py:1864\u001b[0m, in \u001b[0;36mDataFrameWriter.csv\u001b[0;34m(self, path, mode, compression, sep, quote, escape, header, nullValue, escapeQuotes, quoteAll, dateFormat, timestampFormat, ignoreLeadingWhiteSpace, ignoreTrailingWhiteSpace, charToEscapeQuoteEscaping, encoding, emptyValue, lineSep)\u001b[0m\n\u001b[1;32m   1845\u001b[0m \u001b[38;5;28mself\u001b[39m\u001b[38;5;241m.\u001b[39mmode(mode)\n\u001b[1;32m   1846\u001b[0m \u001b[38;5;28mself\u001b[39m\u001b[38;5;241m.\u001b[39m_set_opts(\n\u001b[1;32m   1847\u001b[0m     compression\u001b[38;5;241m=\u001b[39mcompression,\n\u001b[1;32m   1848\u001b[0m     sep\u001b[38;5;241m=\u001b[39msep,\n\u001b[0;32m   (...)\u001b[0m\n\u001b[1;32m   1862\u001b[0m     lineSep\u001b[38;5;241m=\u001b[39mlineSep,\n\u001b[1;32m   1863\u001b[0m )\n\u001b[0;32m-> 1864\u001b[0m \u001b[38;5;28;43mself\u001b[39;49m\u001b[38;5;241;43m.\u001b[39;49m\u001b[43m_jwrite\u001b[49m\u001b[38;5;241;43m.\u001b[39;49m\u001b[43mcsv\u001b[49m\u001b[43m(\u001b[49m\u001b[43mpath\u001b[49m\u001b[43m)\u001b[49m\n",
      "File \u001b[0;32m~/.config/jupyterlab-desktop/jlab_server/lib/python3.12/site-packages/py4j/java_gateway.py:1322\u001b[0m, in \u001b[0;36mJavaMember.__call__\u001b[0;34m(self, *args)\u001b[0m\n\u001b[1;32m   1316\u001b[0m command \u001b[38;5;241m=\u001b[39m proto\u001b[38;5;241m.\u001b[39mCALL_COMMAND_NAME \u001b[38;5;241m+\u001b[39m\\\n\u001b[1;32m   1317\u001b[0m     \u001b[38;5;28mself\u001b[39m\u001b[38;5;241m.\u001b[39mcommand_header \u001b[38;5;241m+\u001b[39m\\\n\u001b[1;32m   1318\u001b[0m     args_command \u001b[38;5;241m+\u001b[39m\\\n\u001b[1;32m   1319\u001b[0m     proto\u001b[38;5;241m.\u001b[39mEND_COMMAND_PART\n\u001b[1;32m   1321\u001b[0m answer \u001b[38;5;241m=\u001b[39m \u001b[38;5;28mself\u001b[39m\u001b[38;5;241m.\u001b[39mgateway_client\u001b[38;5;241m.\u001b[39msend_command(command)\n\u001b[0;32m-> 1322\u001b[0m return_value \u001b[38;5;241m=\u001b[39m \u001b[43mget_return_value\u001b[49m\u001b[43m(\u001b[49m\n\u001b[1;32m   1323\u001b[0m \u001b[43m    \u001b[49m\u001b[43manswer\u001b[49m\u001b[43m,\u001b[49m\u001b[43m \u001b[49m\u001b[38;5;28;43mself\u001b[39;49m\u001b[38;5;241;43m.\u001b[39;49m\u001b[43mgateway_client\u001b[49m\u001b[43m,\u001b[49m\u001b[43m \u001b[49m\u001b[38;5;28;43mself\u001b[39;49m\u001b[38;5;241;43m.\u001b[39;49m\u001b[43mtarget_id\u001b[49m\u001b[43m,\u001b[49m\u001b[43m \u001b[49m\u001b[38;5;28;43mself\u001b[39;49m\u001b[38;5;241;43m.\u001b[39;49m\u001b[43mname\u001b[49m\u001b[43m)\u001b[49m\n\u001b[1;32m   1325\u001b[0m \u001b[38;5;28;01mfor\u001b[39;00m temp_arg \u001b[38;5;129;01min\u001b[39;00m temp_args:\n\u001b[1;32m   1326\u001b[0m     \u001b[38;5;28;01mif\u001b[39;00m \u001b[38;5;28mhasattr\u001b[39m(temp_arg, \u001b[38;5;124m\"\u001b[39m\u001b[38;5;124m_detach\u001b[39m\u001b[38;5;124m\"\u001b[39m):\n",
      "File \u001b[0;32m~/.config/jupyterlab-desktop/jlab_server/lib/python3.12/site-packages/pyspark/errors/exceptions/captured.py:185\u001b[0m, in \u001b[0;36mcapture_sql_exception.<locals>.deco\u001b[0;34m(*a, **kw)\u001b[0m\n\u001b[1;32m    181\u001b[0m converted \u001b[38;5;241m=\u001b[39m convert_exception(e\u001b[38;5;241m.\u001b[39mjava_exception)\n\u001b[1;32m    182\u001b[0m \u001b[38;5;28;01mif\u001b[39;00m \u001b[38;5;129;01mnot\u001b[39;00m \u001b[38;5;28misinstance\u001b[39m(converted, UnknownException):\n\u001b[1;32m    183\u001b[0m     \u001b[38;5;66;03m# Hide where the exception came from that shows a non-Pythonic\u001b[39;00m\n\u001b[1;32m    184\u001b[0m     \u001b[38;5;66;03m# JVM exception message.\u001b[39;00m\n\u001b[0;32m--> 185\u001b[0m     \u001b[38;5;28;01mraise\u001b[39;00m converted \u001b[38;5;28;01mfrom\u001b[39;00m \u001b[38;5;28;01mNone\u001b[39;00m\n\u001b[1;32m    186\u001b[0m \u001b[38;5;28;01melse\u001b[39;00m:\n\u001b[1;32m    187\u001b[0m     \u001b[38;5;28;01mraise\u001b[39;00m\n",
      "\u001b[0;31mAnalysisException\u001b[0m: Datasource does not support writing empty or nested empty schemas. Please make sure the data schema has at least one or more column(s)."
     ]
    }
   ],
   "source": [
    "# Путь в HDFS для сохранения\n",
    "file_path_hdfs = \"hdfs://localhost:9000/nurgaleeva01/hadoop/input/economic_data/apple_stock_2024.csv\"\n",
    "\n",
    "# Сохранение DataFrame в формате CSV в HDFS\n",
    "apple_stock_2024_spark.write.csv(file_path_hdfs, header=True, mode='overwrite')"
   ]
  },
  {
   "cell_type": "code",
   "execution_count": null,
   "id": "9e23312e-fb45-453c-8afc-5fb5ded54736",
   "metadata": {},
   "outputs": [],
   "source": [
    "#Ошибка org.apache.hadoop.security.AccessControlException: \n",
    "# Permission denied указывает на то, что текущий пользователь (devops) не имеет прав на запись в указанный каталог HDFS (/user2/hadoop/economic_data)."
   ]
  },
  {
   "cell_type": "code",
   "execution_count": null,
   "id": "a5e1f2a8-71fe-4dd7-9f7a-e6cf3474b955",
   "metadata": {},
   "outputs": [],
   "source": []
  },
  {
   "cell_type": "code",
   "execution_count": null,
   "id": "2771660b-446f-4839-8ae4-39dde079c689",
   "metadata": {},
   "outputs": [],
   "source": []
  },
  {
   "cell_type": "code",
   "execution_count": null,
   "id": "8b41a773-31c1-40de-871b-c5507da2a2f6",
   "metadata": {},
   "outputs": [],
   "source": []
  },
  {
   "cell_type": "code",
   "execution_count": null,
   "id": "3d741674-7514-4dd4-b1e5-c62079f6972c",
   "metadata": {},
   "outputs": [],
   "source": []
  },
  {
   "cell_type": "code",
   "execution_count": null,
   "id": "d08b85fb-dde5-47e8-a121-d345ed8f08d7",
   "metadata": {},
   "outputs": [],
   "source": []
  },
  {
   "cell_type": "code",
   "execution_count": null,
   "id": "9a502fce-dc8b-47a4-a2e3-01fe2548ffc4",
   "metadata": {},
   "outputs": [],
   "source": []
  },
  {
   "cell_type": "markdown",
   "id": "7141d1d0-3110-40c0-a0cd-dd4d28036932",
   "metadata": {},
   "source": [
    "### Didn't use the following script due to incorrect downloading of the csv file from hadoop"
   ]
  },
  {
   "cell_type": "code",
   "execution_count": null,
   "id": "1df6f934-23f8-4696-b433-c3e99f67a9a1",
   "metadata": {},
   "outputs": [],
   "source": [
    "# Отображение статистики числовых полей\n",
    "summary_statistics = pandas_df.describe()\n",
    "\n",
    "# Визуализация ВВП (GDP) по годам для каждой страны\n",
    "plt.figure(figsize=(12, 8))\n",
    "for tr in pandas_df['Transaction'].unique():\n",
    "    tr_data = pandas_df[pandas_df['Transaction'] == tr]\n",
    "    plt.plot(tr_data['Date'], tr_data['Cost'], marker='o', label=country)\n",
    "\n",
    "plt.title('TESLA trading')\n",
    "plt.xlabel('Date')\n",
    "plt.ylabel('Cost')\n",
    "plt.legend()\n",
    "plt.show()\n",
    "\n",
    "summary_statistics"
   ]
  },
  {
   "cell_type": "code",
   "execution_count": null,
   "id": "cdc5cfdd-4792-436c-b775-e8a2816ce7dd",
   "metadata": {},
   "outputs": [],
   "source": [
    "pandas_df['Country'].unique()"
   ]
  },
  {
   "cell_type": "code",
   "execution_count": null,
   "id": "4590a2c4-8305-4c92-b1a6-3bad920a101d",
   "metadata": {},
   "outputs": [],
   "source": [
    "# Фильтрация данных только для Italy\n",
    "Italy_data = pandas_df[pandas_df['Country'] == 'Italy']\n",
    "\n",
    "# Отображение статистики для Italy\n",
    "Italy_summary_statistics = Italy_data.describe()\n",
    "\n",
    "# Визуализация ВВП (GDP) для Italy по годам\n",
    "plt.figure(figsize=(10, 6))\n",
    "plt.plot(Italy_data['Year'], Italy_data['GDP'], marker='o', linestyle='-', color='b', label='GDP')\n",
    "plt.title('GDP of Italy Over Years')\n",
    "plt.xlabel('Year')\n",
    "plt.ylabel('GDP')\n",
    "plt.legend()\n",
    "plt.show()\n",
    "\n",
    "Italy_summary_statistics"
   ]
  },
  {
   "cell_type": "code",
   "execution_count": null,
   "id": "5b4e1fd4-3454-4c51-86a7-0f9920c03a6f",
   "metadata": {},
   "outputs": [],
   "source": [
    "# Преобразование Pandas DataFrame обратно в PySpark DataFrame\n",
    "italy_data_spark = spark.createDataFrame(Italy_data)\n"
   ]
  },
  {
   "cell_type": "code",
   "execution_count": null,
   "id": "e01c8289-21d0-4776-a681-0e8e19f01ab7",
   "metadata": {},
   "outputs": [],
   "source": [
    "# Путь в HDFS для сохранения\n",
    "file_path_hdfs = \"hdfs://localhost:9000/user2/hadoop/economic_data/Italy_data.csv\"\n",
    "\n",
    "# Сохранение DataFrame в формате CSV в HDFS\n",
    "italy_data_spark.write.csv(file_path_hdfs, header=True, mode='overwrite')"
   ]
  },
  {
   "cell_type": "code",
   "execution_count": null,
   "id": "3e98adc5-46da-4b0c-a729-411467ea5200",
   "metadata": {},
   "outputs": [],
   "source": [
    "#Ошибка org.apache.hadoop.security.AccessControlException: \n",
    "# Permission denied указывает на то, что текущий пользователь (devops) не имеет прав на запись в указанный каталог HDFS (/user2/hadoop/economic_data)."
   ]
  },
  {
   "cell_type": "markdown",
   "id": "146800d4-fc52-4696-ba46-1113acf252dd",
   "metadata": {},
   "source": [
    "Изменение прав доступа к каталогу:\n",
    "\n",
    "Используйте команду hdfs dfs -chmod для изменения прав доступа и разрешения записи для нужного пользователя:\n",
    "hdfs dfs -chmod 777 /user2/hadoop/economic_data"
   ]
  }
 ],
 "metadata": {
  "kernelspec": {
   "display_name": "Python 3 (ipykernel)",
   "language": "python",
   "name": "python3"
  },
  "language_info": {
   "codemirror_mode": {
    "name": "ipython",
    "version": 3
   },
   "file_extension": ".py",
   "mimetype": "text/x-python",
   "name": "python",
   "nbconvert_exporter": "python",
   "pygments_lexer": "ipython3",
   "version": "3.12.3"
  }
 },
 "nbformat": 4,
 "nbformat_minor": 5
}
